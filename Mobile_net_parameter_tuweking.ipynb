{
  "nbformat": 4,
  "nbformat_minor": 0,
  "metadata": {
    "colab": {
      "provenance": [],
      "gpuType": "T4",
      "include_colab_link": true
    },
    "kernelspec": {
      "name": "python3",
      "display_name": "Python 3"
    },
    "language_info": {
      "name": "python"
    },
    "accelerator": "GPU"
  },
  "cells": [
    {
      "cell_type": "markdown",
      "metadata": {
        "id": "view-in-github",
        "colab_type": "text"
      },
      "source": [
        "<a href=\"https://colab.research.google.com/github/samartha007/Psoriasis-detection-using-transfer-learning/blob/New-random-sampling-method/Mobile_net_parameter_tuweking.ipynb\" target=\"_parent\"><img src=\"https://colab.research.google.com/assets/colab-badge.svg\" alt=\"Open In Colab\"/></a>"
      ]
    },
    {
      "cell_type": "code",
      "source": [
        "\n",
        "import tensorflow as tf\n",
        "from tensorflow import keras\n",
        "from tensorflow.keras.models import Sequential\n",
        "from tensorflow.keras.layers import Dense, Flatten,Dropout\n",
        "from tensorflow.keras.optimizers import Adam, SGD\n",
        "from sklearn.metrics import accuracy_score, precision_score, recall_score, f1_score, confusion_matrix,roc_curve,auc\n",
        "\n",
        "\n",
        "from keras.applications.mobilenet import MobileNet\n",
        "import os\n",
        "import numpy as np\n",
        "from PIL import Image\n",
        "import matplotlib.pyplot as plt\n",
        "#### Modeling\n",
        "import tensorflow as tf\n",
        "from tensorflow import keras\n",
        "from keras import Sequential\n",
        "from keras.layers import Dense,Conv2D,MaxPooling2D,Flatten,BatchNormalization,Dropout\n",
        "from tensorflow.keras.optimizers import Adam,SGD\n",
        "from sklearn.model_selection import train_test_split\n",
        "from tensorflow.keras.applications.vgg16 import preprocess_input\n",
        "from tensorflow.keras.applications import VGG16\n",
        "from tensorflow.keras.applications.inception_v3 import InceptionV3\n",
        "from tensorflow.keras.applications.xception import Xception\n",
        "from tensorflow.keras.applications import EfficientNetB0\n",
        "from keras.applications.mobilenet import MobileNet\n",
        "from keras.applications.vgg19 import VGG19\n",
        "from tensorflow.keras.applications import ResNet50\n",
        "from sklearn.model_selection import cross_val_score,cross_val_predict, StratifiedKFold\n",
        "from tensorflow.keras.wrappers.scikit_learn import KerasClassifier\n",
        "from sklearn.metrics import accuracy_score, precision_score, recall_score, f1_score, confusion_matrix\n",
        "from sklearn import metrics\n",
        "from sklearn.metrics import roc_curve, auc\n",
        "\n"
      ],
      "metadata": {
        "id": "ed8E_85cBe5G"
      },
      "execution_count": null,
      "outputs": []
    },
    {
      "cell_type": "code",
      "source": [
        "from google.colab import drive\n",
        "\n",
        "drive.mount('/content/gdrive/', force_remount=True)"
      ],
      "metadata": {
        "colab": {
          "base_uri": "https://localhost:8080/"
        },
        "id": "btKCsVHsRss2",
        "outputId": "6abab781-2365-459a-f3b8-c92d13c2866c"
      },
      "execution_count": null,
      "outputs": [
        {
          "output_type": "stream",
          "name": "stdout",
          "text": [
            "Mounted at /content/gdrive/\n"
          ]
        }
      ]
    },
    {
      "cell_type": "code",
      "execution_count": null,
      "metadata": {
        "id": "lOq51KsiQt2L"
      },
      "outputs": [],
      "source": [
        "import os\n",
        "import numpy as np\n",
        "from PIL import Image\n",
        "from sklearn.model_selection import train_test_split\n",
        "from tensorflow.keras.applications.vgg16 import preprocess_input\n",
        "\n",
        "# Path to the directories containing the class data\n",
        "class_1_directory = '/content/gdrive/MyDrive/all patch data/all patch data/disease_with_online_data'\n",
        "class_2_directory = '/content/gdrive/MyDrive/all patch data/all patch data/normal'\n",
        "\n",
        "# Get a list of image filenames for each class\n",
        "class_1_filenames = os.listdir(class_1_directory)\n",
        "class_2_filenames = os.listdir(class_2_directory)\n",
        "\n",
        "# Create empty lists to store the data and labels\n",
        "data = []\n",
        "labels = []\n",
        "\n",
        "# Loop over each image in class 1\n",
        "for image_filename in class_1_filenames:\n",
        "    # Read the image\n",
        "    image_path = os.path.join(class_1_directory, image_filename)\n",
        "    image = Image.open(image_path)\n",
        "\n",
        "    # Preprocess the image for VGG16\n",
        "    image = image.resize((224, 224))\n",
        "    # image = image.convert('RGB')\n",
        "    image = np.array(image)\n",
        "    # image = preprocess_input(image)\n",
        "\n",
        "    # Add the preprocessed image and corresponding label to the lists\n",
        "    data.append(image)\n",
        "    labels.append(0)  # Class 1 is labeled as 0\n",
        "\n",
        "# Loop over each image in class 2\n",
        "for image_filename in class_2_filenames:\n",
        "    # Read the image\n",
        "    image_path = os.path.join(class_2_directory, image_filename)\n",
        "    image = Image.open(image_path)\n",
        "\n",
        "    # Preprocess the image for VGG16\n",
        "    image = image.resize((224, 224))\n",
        "    # image = image.convert('RGB')\n",
        "    image = np.array(image)\n",
        "    # image = preprocess_input(image)\n",
        "\n",
        "    # Add the preprocessed image and corresponding label to the lists\n",
        "    data.append(image)\n",
        "    labels.append(1)  # Class 2 is labeled as 1\n",
        "\n",
        "# Convert the lists to NumPy arrays\n",
        "data = np.array(data)\n",
        "labels = np.array(labels)\n",
        "# # Normalize the image data\n",
        "data = data / 255.0\n",
        "# Split the data into training and testing sets\n",
        "X_train1, X_test1, y_train1, y_test1 = train_test_split(data, labels, test_size=0.2, random_state=42)\n"
      ]
    },
    {
      "cell_type": "code",
      "source": [
        "\n",
        "import tensorflow as tf\n",
        "from tensorflow import keras\n",
        "from tensorflow.keras.models import Sequential\n",
        "from tensorflow.keras.layers import Dense, Flatten,Dropout\n",
        "from tensorflow.keras.optimizers import Adam, SGD\n",
        "from sklearn.metrics import accuracy_score, precision_score, recall_score, f1_score, confusion_matrix\n",
        "\n",
        "## Mobilenet\n",
        "# Set the random seed\n",
        "random_seed = 42\n",
        "np.random.seed(random_seed)\n",
        "tf.random.set_seed(random_seed)\n",
        "\n",
        "from keras.applications.mobilenet import MobileNet\n",
        "\n",
        "# Step 2: Load a pre-trained model (VGG16 in this example)\n",
        "base_model =MobileNet(\n",
        "    input_shape=(256,256,3),\n",
        "    alpha=1.0,\n",
        "    depth_multiplier=1,\n",
        "    dropout=0.001,\n",
        "    include_top=False\n",
        ")\n",
        "\n",
        "# Step 3: Build your model\n",
        "model = Sequential()\n",
        "model.add(base_model)\n",
        "model.add(Flatten())\n",
        "model.add(Dense(256, activation='relu'))\n",
        "model.add(Dropout(0.5))\n",
        "model.add(Dense(1, activation='sigmoid'))\n",
        "base_model.trainable=False\n",
        "# Step 4: Compile your model\n",
        "model.compile(optimizer=SGD(lr=0.001), loss='binary_crossentropy', metrics=['accuracy'])\n",
        "\n",
        "# Step 5: Train your model\n",
        "model.fit(X_train1, y_train1, batch_size=50, epochs=10, validation_data=(X_test1, y_test1))\n",
        "\n",
        "# Step 6: Evaluate your model\n",
        "y_pred = model.predict(X_test1)\n",
        "y_pred_binary = (y_pred >= 0.5).astype(int)\n",
        "\n",
        "# Calculate evaluation metrics\n",
        "accuracy = accuracy_score(y_test1, y_pred_binary)\n",
        "precision = precision_score(y_test1, y_pred_binary)\n",
        "recall = recall_score(y_test1, y_pred_binary)\n",
        "f1 = f1_score(y_test1, y_pred_binary)\n",
        "confusion_mat = confusion_matrix(y_test1, y_pred_binary)\n",
        "\n",
        "print(\"Accuracy:\", accuracy)\n",
        "print(\"Precision:\", precision)\n",
        "print(\"Recall:\", recall)\n",
        "print(\"F1 Score:\", f1)\n",
        "print(\"Confusion Matrix:\\n\", confusion_mat)\n"
      ],
      "metadata": {
        "colab": {
          "base_uri": "https://localhost:8080/"
        },
        "id": "9A3mUsOjQ19N",
        "outputId": "ed6cb548-3004-4d4a-ed27-0fc1e799e09b"
      },
      "execution_count": null,
      "outputs": [
        {
          "output_type": "stream",
          "name": "stderr",
          "text": [
            "WARNING:tensorflow:`input_shape` is undefined or non-square, or `rows` is not in [128, 160, 192, 224]. Weights for input shape (224, 224) will be loaded as the default.\n",
            "WARNING:absl:`lr` is deprecated in Keras optimizer, please use `learning_rate` or use the legacy optimizer, e.g.,tf.keras.optimizers.legacy.SGD.\n"
          ]
        },
        {
          "output_type": "stream",
          "name": "stdout",
          "text": [
            "Epoch 1/10\n",
            "6/6 [==============================] - 29s 5s/step - loss: 2.1049 - accuracy: 0.6293 - val_loss: 0.1531 - val_accuracy: 0.9189\n",
            "Epoch 2/10\n",
            "6/6 [==============================] - 32s 6s/step - loss: 0.1443 - accuracy: 0.9388 - val_loss: 0.1278 - val_accuracy: 0.9595\n",
            "Epoch 3/10\n",
            "6/6 [==============================] - 26s 5s/step - loss: 0.0902 - accuracy: 0.9796 - val_loss: 0.0854 - val_accuracy: 0.9730\n",
            "Epoch 4/10\n",
            "6/6 [==============================] - 24s 4s/step - loss: 0.0495 - accuracy: 0.9864 - val_loss: 0.0832 - val_accuracy: 0.9595\n",
            "Epoch 5/10\n",
            "6/6 [==============================] - 27s 4s/step - loss: 0.0351 - accuracy: 0.9966 - val_loss: 0.0692 - val_accuracy: 0.9730\n",
            "Epoch 6/10\n",
            "6/6 [==============================] - 27s 5s/step - loss: 0.0193 - accuracy: 0.9966 - val_loss: 0.0636 - val_accuracy: 0.9730\n",
            "Epoch 7/10\n",
            "6/6 [==============================] - 26s 5s/step - loss: 0.0225 - accuracy: 0.9966 - val_loss: 0.0648 - val_accuracy: 0.9730\n",
            "Epoch 8/10\n",
            "6/6 [==============================] - 25s 4s/step - loss: 0.0155 - accuracy: 0.9966 - val_loss: 0.0635 - val_accuracy: 0.9730\n",
            "Epoch 9/10\n",
            "6/6 [==============================] - 29s 5s/step - loss: 0.0245 - accuracy: 1.0000 - val_loss: 0.0645 - val_accuracy: 0.9730\n",
            "Epoch 10/10\n",
            "6/6 [==============================] - 27s 4s/step - loss: 0.0211 - accuracy: 0.9966 - val_loss: 0.0642 - val_accuracy: 0.9730\n",
            "3/3 [==============================] - 7s 2s/step\n",
            "Accuracy: 0.972972972972973\n",
            "Precision: 0.9354838709677419\n",
            "Recall: 1.0\n",
            "F1 Score: 0.9666666666666666\n",
            "Confusion Matrix:\n",
            " [[43  2]\n",
            " [ 0 29]]\n"
          ]
        }
      ]
    },
    {
      "cell_type": "code",
      "source": [
        "## calculating Specificity and Sensitivity\n",
        "# Creating a function to report confusion metrics\n",
        "def f1_scores (conf_matrix):\n",
        "# save confusion matrix and slice into four pieces\n",
        "    TP = conf_matrix[1][1]\n",
        "    TN = conf_matrix[0][0]\n",
        "    FP = conf_matrix[0][1]\n",
        "    FN = conf_matrix[1][0]\n",
        "\n",
        "    # calculate accuracy\n",
        "    conf_accuracy = (float (TP+TN) / float(TP + TN + FP + FN))\n",
        "\n",
        "    # calculate mis-classification\n",
        "    conf_misclassification = 1- conf_accuracy\n",
        "\n",
        "    # calculate the sensitivity\n",
        "    conf_sensitivity = (TP / float(TP + FN))\n",
        "    # calculate the specificity\n",
        "    conf_specificity = (TN / float(TN + FP))\n",
        "\n",
        "    # calculate precision\n",
        "    conf_precision = (TN / float(TN + FP))\n",
        "    # calculate f_1 score\n",
        "    conf_f1 = 2 * ((conf_precision * conf_sensitivity) / (conf_precision + conf_sensitivity))\n",
        "    return conf_f1,conf_sensitivity,conf_specificity\n"
      ],
      "metadata": {
        "id": "OfKDAxnNWqcm"
      },
      "execution_count": null,
      "outputs": []
    },
    {
      "cell_type": "code",
      "source": [
        "\n",
        "#### Model Performance\n",
        "from sklearn import metrics\n",
        "def performance(y_true,y_pred_probs):\n",
        "    cm = metrics.confusion_matrix(y_true, y_pred_probs)\n",
        "    print('     sensitivity :',(f1_scores(cm)[1]))\n",
        "    print('     specificity :',(f1_scores(cm)[2]))\n",
        "# y_true, y_pred_probs\n",
        "print('Mobilenet ')\n",
        "performance(y_test1,y_pred_binary)"
      ],
      "metadata": {
        "colab": {
          "base_uri": "https://localhost:8080/"
        },
        "id": "kX1IsW5bQ5AO",
        "outputId": "eefc21dc-4ccd-4682-fad9-55966cbf224f"
      },
      "execution_count": null,
      "outputs": [
        {
          "output_type": "stream",
          "name": "stdout",
          "text": [
            "Mobilenet \n",
            "     sensitivity : 1.0\n",
            "     specificity : 0.9555555555555556\n"
          ]
        }
      ]
    },
    {
      "cell_type": "code",
      "source": [
        "from sklearn.metrics import roc_curve, auc\n",
        "import matplotlib.pyplot as plt\n",
        "# Calculate the ROC curve\n",
        "fpr, tpr, thresholds = roc_curve(y_test1, y_pred_binary)\n",
        "roc_auc = auc(fpr, tpr)\n",
        "\n",
        "# Plot the ROC curve\n",
        "plt.plot(fpr, tpr, color='darkorange', lw=2, label='ROC curve (area = %0.2f)' % roc_auc)\n",
        "plt.plot([0, 1], [0, 1], color='navy', lw=2, linestyle='--')\n",
        "plt.xlim([0.0, 1.0])\n",
        "plt.ylim([0.0, 1.05])\n",
        "plt.xlabel('False Positive Rate')\n",
        "plt.ylabel('True Positive Rate')\n",
        "plt.title('Receiver Operating Characteristic (ROC)')\n",
        "plt.legend(loc=\"lower right\")\n",
        "plt.show()"
      ],
      "metadata": {
        "colab": {
          "base_uri": "https://localhost:8080/",
          "height": 472
        },
        "id": "WVuc0cHwQ7Lv",
        "outputId": "a17b7624-da1a-4987-f23c-b2662c32807f"
      },
      "execution_count": null,
      "outputs": [
        {
          "output_type": "display_data",
          "data": {
            "text/plain": [
              "<Figure size 640x480 with 1 Axes>"
            ],
            "image/png": "[encoded data removed]"
          },
          "metadata": {}
        }
      ]
    },
    {
      "cell_type": "code",
      "source": [
        "import numpy as np\n",
        "from sklearn.model_selection import cross_val_score,cross_val_predict, StratifiedKFold\n",
        "from tensorflow.keras.wrappers.scikit_learn import KerasClassifier\n",
        "\n",
        "\n",
        "# Define a function to create the Keras model\n",
        "def create_model():\n",
        "    # Load the pre-trained VGG16 model\n",
        "    base_model = MobileNet(\n",
        "    input_shape=(224,224,3),\n",
        "    alpha=1.0,\n",
        "    depth_multiplier=1,\n",
        "    dropout=0.001,\n",
        "    include_top=False\n",
        ")\n",
        "\n",
        "    # Set up the model architecture\n",
        "    model = Sequential()\n",
        "    model.add(base_model)\n",
        "    model.add(Flatten())\n",
        "    model.add(Dense(224, activation='relu'))\n",
        "    model.add(Dropout(0.5))\n",
        "    model.add(Dense(1, activation='sigmoid'))\n",
        "    base_model.tranable=False\n",
        "    # Compile the model\n",
        "    model.compile(optimizer=SGD(learning_rate=0.001), loss='binary_crossentropy', metrics=['accuracy'])\n",
        "\n",
        "    return model\n",
        "\n",
        "# Create a scikit-learn compatible KerasClassifier\n",
        "model = KerasClassifier(build_fn=create_model, epochs=10, batch_size=50, verbose=0, random_state=42)\n",
        "\n",
        "# Define the number of folds for cross-validation\n",
        "num_folds = 5\n",
        "\n",
        "# Define the cross-validation strategy (e.g., StratifiedKFold)\n",
        "cv = StratifiedKFold(n_splits=num_folds, shuffle=True, random_state=42)\n",
        "\n",
        "# Perform cross-validation\n",
        "results = cross_val_score(model, data, labels, cv=cv, scoring='accuracy')\n",
        "results1 = cross_val_score(model, data, labels, cv=cv, scoring='recall')\n",
        "# Print the cross-validation results\n",
        "print(\"Cross-validation Results: \", results)\n",
        "print(\"Mean Accuracy: \", np.mean(results))\n",
        "print(\"Standard Deviation: \", np.std(results))\n",
        "\n",
        "# Print the cross-validation results\n",
        "print(\"Cross-validation Results: \", results1)\n",
        "print(\"Mean ROC: \", np.mean(results1))\n",
        "print(\"Standard Deviation: \", np.std(results1))\n",
        "# Perform cross-validation\n",
        "y_pred = cross_val_predict(model, data, labels, cv=cv)\n",
        "binary_predictions = np.where(y_pred > 0.5, 1, 0)\n",
        "# Compute the confusion matrix\n",
        "cm = confusion_matrix(labels, binary_predictions)\n",
        "print(cm)\n",
        "# Extract true negatives, false positives, false negatives, and true positives\n",
        "tn, fp, fn, tp = cm.ravel()\n",
        "# Calculate specificity and sensitivity\n",
        "specificity = tn / (tn + fp)\n",
        "sensitivity = tp / (tp + fn)\n",
        "\n",
        "# Print the specificity and sensitivity\n",
        "print(\"Specificity: \", specificity)\n",
        "print(\"Sensitivity: \", sensitivity)\n",
        "# Perform cross-validation\n",
        "y_pred_proba = cross_val_predict(model, data, labels, cv=cv, method='predict_proba')[:, 1]\n",
        "\n",
        "# Compute the ROC curve\n",
        "fpr, tpr, thresholds = roc_curve(labels, y_pred_proba)\n",
        "print(fpr, tpr)\n",
        "# Compute the AUC\n",
        "roc_auc = auc(fpr, tpr)\n",
        "print(roc_auc)\n",
        "# Plot the ROC curve\n",
        "plt.figure()\n",
        "plt.plot(fpr, tpr, label='ROC curve (area = %0.2f)' % roc_auc)\n",
        "plt.plot([0, 1], [0, 1], 'k--')\n",
        "plt.xlim([0.0, 1.0])\n",
        "plt.ylim([0.0, 1.05])\n",
        "plt.xlabel('False Positive Rate')\n",
        "plt.ylabel('True Positive Rate')\n",
        "plt.title('Receiver Operating Characteristic')\n",
        "plt.legend(loc='lower right')\n",
        "plt.show()\n",
        "\n",
        "# Print the AUC\n",
        "print(\"AUC: \", roc_auc)"
      ],
      "metadata": {
        "colab": {
          "base_uri": "https://localhost:8080/"
        },
        "id": "GGDQhKQCRaBe",
        "outputId": "04d817cb-d39a-478b-a85b-6aac8ed82d9e"
      },
      "execution_count": null,
      "outputs": [
        {
          "output_type": "stream",
          "name": "stderr",
          "text": [
            "<ipython-input-15-34dabde65068>:31: DeprecationWarning: KerasClassifier is deprecated, use Sci-Keras (https://github.com/adriangb/scikeras) instead. See https://www.adriangb.com/scikeras/stable/migration.html for help migrating.\n",
            "  model = KerasClassifier(build_fn=create_model, epochs=10, batch_size=50, verbose=0)\n"
          ]
        },
        {
          "output_type": "stream",
          "name": "stdout",
          "text": [
            "3/3 [==============================] - 1s 31ms/step\n",
            "3/3 [==============================] - 1s 33ms/step\n",
            "3/3 [==============================] - 1s 31ms/step\n",
            "3/3 [==============================] - 1s 43ms/step\n",
            "3/3 [==============================] - 1s 44ms/step\n",
            "3/3 [==============================] - 1s 43ms/step\n",
            "3/3 [==============================] - 1s 31ms/step\n",
            "3/3 [==============================] - 1s 42ms/step\n",
            "3/3 [==============================] - 1s 41ms/step\n",
            "3/3 [==============================] - 1s 30ms/step\n",
            "Cross-validation Results:  [0.85135135 0.90540541 0.86486486 0.80821918 0.87671233]\n",
            "Mean Accuracy:  0.8613106256941873\n",
            "Standard Deviation:  0.031975251762521736\n",
            "Cross-validation Results:  [0.96774194 1.         1.         1.         0.93333333]\n",
            "Mean ROC:  0.9802150537634409\n",
            "Standard Deviation:  0.026562404570571196\n",
            "3/3 [==============================] - 1s 30ms/step\n",
            "3/3 [==============================] - 1s 42ms/step\n",
            "3/3 [==============================] - 1s 30ms/step\n",
            "3/3 [==============================] - 1s 42ms/step\n",
            "3/3 [==============================] - 2s 32ms/step\n",
            "[[172  43]\n",
            " [ 11 142]]\n",
            "Specificity:  0.8\n",
            "Sensitivity:  0.9281045751633987\n",
            "3/3 [==============================] - 1s 32ms/step\n",
            "3/3 [==============================] - 1s 34ms/step\n",
            "3/3 [==============================] - 1s 31ms/step\n",
            "3/3 [==============================] - 1s 43ms/step\n"
          ]
        }
      ]
    },
    {
      "cell_type": "code",
      "source": [
        "from sklearn.metrics import confusion_matrix\n",
        "from sklearn.model_selection import StratifiedKFold\n",
        "from tensorflow.keras.applications.vgg19 import VGG19, preprocess_input\n",
        "from tensorflow.keras.layers import Flatten, Dense, Dropout\n",
        "from tensorflow.keras.models import Sequential\n",
        "from tensorflow.keras.optimizers import Adam\n",
        "def crossvalidation_models(base,height,width):\n",
        "  # Define the number of folds for cross-validation\n",
        "  num_folds = 5\n",
        "\n",
        "  # Define the cross-validation strategy (e.g., StratifiedKFold)\n",
        "  cv = StratifiedKFold(n_splits=num_folds, shuffle=True, random_state=42)\n",
        "\n",
        "  # Initialize lists to store evaluation metrics\n",
        "  specificities = []\n",
        "  sensitivities = []\n",
        "\n",
        "  # Iterate over each fold\n",
        "  fold_no = 1\n",
        "  for train, test in cv.split(data, labels):\n",
        "      print(f'Training for fold {fold_no}')\n",
        "\n",
        "      # Preprocess the data\n",
        "      train_x = preprocess_input(data[train])\n",
        "      test_x = preprocess_input(data[test])\n",
        "\n",
        "      # Load the pre-trained VGG19 model\n",
        "      base_model = base(weights='imagenet', include_top=False, input_shape=(height, width, 3))\n",
        "\n",
        "      # Set up the model architecture\n",
        "      model = Sequential()\n",
        "      model.add(base_model)\n",
        "      model.add(Flatten())\n",
        "      model.add(Dense(256, activation='relu'))\n",
        "      model.add(Dropout(0.5))\n",
        "      model.add(Dense(1, activation='sigmoid'))\n",
        "      base_model.trainable = False\n",
        "\n",
        "      # Compile the model\n",
        "      model.compile(optimizer=Adam(learning_rate=0.001), loss='binary_crossentropy', metrics=['accuracy'])\n",
        "\n",
        "      # Fit the model\n",
        "      model.fit(train_x, labels[train], batch_size=30, epochs=10, verbose=1)\n",
        "\n",
        "      # Make predictions on the test set\n",
        "      y_pred = model.predict(test_x, verbose=0)\n",
        "\n",
        "      # Compute the confusion matrix\n",
        "      cm = confusion_matrix(labels[test], y_pred.round())\n",
        "\n",
        "      # Calculate specificity and sensitivity\n",
        "      specificity = calculate_specificity(cm)\n",
        "      sensitivity = calculate_sensitivity(cm)\n",
        "\n",
        "      # Append specificity and sensitivity to the lists\n",
        "      specificities.append(specificity)\n",
        "      sensitivities.append(sensitivity)\n",
        "\n",
        "      fold_no += 1\n",
        "\n",
        "  # Print the specificity and sensitivity for each fold\n",
        "  for fold in range(num_folds):\n",
        "      print(f'Fold {fold+1}: Specificity={specificities[fold]}, Sensitivity={sensitivities[fold]}')\n",
        "\n"
      ],
      "metadata": {
        "id": "GpRibny9ZNfS"
      },
      "execution_count": null,
      "outputs": []
    },
    {
      "cell_type": "markdown",
      "source": [
        "## For Mobile Net application using the Newly mentioned method"
      ],
      "metadata": {
        "id": "WE8iGPnRL6E5"
      }
    },
    {
      "cell_type": "code",
      "source": [
        "#### SIR Newly Mentioned Logic of sampling\n",
        "import numpy as np\n",
        "from sklearn.model_selection import train_test_split\n",
        "from sklearn.metrics import roc_auc_score, roc_curve, confusion_matrix\n",
        "sns=[]\n",
        "spc=[]\n",
        "AUC=[]\n",
        "validation_loss=[]\n",
        "validation_accuracy=[]\n",
        "# Assuming you have your feature data in 'X' and labels in 'y'\n",
        "# Define your model as 'model'\n",
        "# Define the number of epochs as 'num_epochs'\n",
        "def sir_method(base,height,width):\n",
        "# Get the total number of samples\n",
        "  num_samples = len(labels)\n",
        "  num_epochs=10\n",
        "  for epoch in range(num_epochs):\n",
        "      # Shuffle the data and labels\n",
        "      shuffled_indices = np.random.permutation(num_samples)\n",
        "      X_shuffled = data[shuffled_indices]\n",
        "      y_shuffled =labels[shuffled_indices]\n",
        "\n",
        "      # Split the data into training and validation sets\n",
        "      train_size = int(0.8 * num_samples)\n",
        "      X_train, X_val = X_shuffled[:train_size], X_shuffled[train_size:]\n",
        "      y_train, y_val = y_shuffled[:train_size], y_shuffled[train_size:]\n",
        "      base_model = base(weights='imagenet', include_top=False, input_shape=(height, width, 3))\n",
        "\n",
        "        # Set up the model architecture\n",
        "      model = Sequential()\n",
        "      model.add(base_model)\n",
        "      model.add(Flatten())\n",
        "      model.add(Dense(height, activation='relu'))\n",
        "      model.add(Dropout(0.5))\n",
        "      model.add(Dense(1, activation='sigmoid'))\n",
        "      base_model.trainable = False\n",
        "\n",
        "      # Compile the model\n",
        "      model.compile(optimizer=Adam(learning_rate=0.001), loss='binary_crossentropy', metrics=['accuracy'])\n",
        "      # Train the model on the training set\n",
        "      model.fit(X_train, y_train, epochs=1, batch_size=50, verbose=0)\n",
        "      # Evaluate the model on the validation set\n",
        "      val_loss, val_acc = model.evaluate(X_val, y_val, verbose=0)\n",
        "      validation_loss.append(val_loss)\n",
        "      validation_accuracy.append(val_acc)\n",
        "      # Make predictions on the validation set\n",
        "      y_pred = model.predict(X_val)\n",
        "\n",
        "      # Calculate sensitivity, specificity, and AUC\n",
        "      cm = confusion_matrix(y_val, np.round(y_pred))\n",
        "      tn, fp, fn, tp = cm.ravel()\n",
        "      sensitivity = tp / (tp + fn)\n",
        "      specificity = tn / (tn + fp)\n",
        "      auc = roc_auc_score(y_val, y_pred)\n",
        "      sns.append(sensitivity)\n",
        "      spc.append(specificity)\n",
        "      AUC.append(auc)\n",
        "\n",
        "      # Print the evaluation metrics\n",
        "      # print(f\"Epoch {epoch+1} - Sensitivity: {sensitivity:.4f} - Specificity: {specificity:.4f} - AUC: {auc:.4f}\")\n",
        "  return sns,spc,AUC,validation_loss,validation_accuracy\n"
      ],
      "metadata": {
        "id": "HIVIYkM0r6JD"
      },
      "execution_count": null,
      "outputs": []
    },
    {
      "cell_type": "code",
      "source": [
        "mobile_net_sns,mobile_net_spc,mobile_net_auc,mobile_net_val_loss,mobile_net_val_acc=sir_method(MobileNet,224,224)"
      ],
      "metadata": {
        "colab": {
          "base_uri": "https://localhost:8080/"
        },
        "id": "HY1L525muWKU",
        "outputId": "eb48c600-35b7-4b9f-ab58-297b92aafa6c"
      },
      "execution_count": null,
      "outputs": [
        {
          "output_type": "stream",
          "name": "stdout",
          "text": [
            "3/3 [==============================] - 1s 31ms/step\n",
            "3/3 [==============================] - 1s 29ms/step\n",
            "3/3 [==============================] - 1s 31ms/step\n",
            "3/3 [==============================] - 1s 31ms/step\n",
            "3/3 [==============================] - 1s 31ms/step\n",
            "3/3 [==============================] - 1s 34ms/step\n",
            "3/3 [==============================] - 1s 43ms/step\n",
            "3/3 [==============================] - 1s 39ms/step\n",
            "3/3 [==============================] - 0s 30ms/step\n",
            "3/3 [==============================] - 1s 38ms/step\n"
          ]
        }
      ]
    },
    {
      "cell_type": "code",
      "source": [
        "print(f'Mean sensitivity of MobileNet after 10 epochs {np.mean(mobile_net_sns)}')\n",
        "print(f'Mean specificity after 10 epochs {np.mean(mobile_net_spc)}')\n",
        "print(f'Mean AUC after 10 epochs {np.mean(mobile_net_auc)}')"
      ],
      "metadata": {
        "colab": {
          "base_uri": "https://localhost:8080/"
        },
        "id": "2K2pCs9T8Jj1",
        "outputId": "849361a2-ca83-4e6c-d80d-0fd0a9d9c542"
      },
      "execution_count": null,
      "outputs": [
        {
          "output_type": "stream",
          "name": "stdout",
          "text": [
            "Mean sensitivity of MobileNet after 10 epochs 0.9539676246674219\n",
            "Mean specificity after 10 epochs 0.9335211360743276\n",
            "Mean AUC after 10 epochs 0.9871065221261721\n"
          ]
        }
      ]
    },
    {
      "cell_type": "markdown",
      "source": [
        "### For Resnet-50 application"
      ],
      "metadata": {
        "id": "eNNqcW8EKa0B"
      }
    },
    {
      "cell_type": "code",
      "source": [
        "res_net_sns,res_net_spc,res_net_auc,res_net_val_loss,res_net_val_acc=sir_method(ResNet50,224,224)"
      ],
      "metadata": {
        "colab": {
          "base_uri": "https://localhost:8080/"
        },
        "id": "Vze8EUMnJ3Yx",
        "outputId": "2d9a06e2-117a-435d-98df-ad2c8d04df97"
      },
      "execution_count": null,
      "outputs": [
        {
          "output_type": "stream",
          "name": "stdout",
          "text": [
            "Downloading data from https://storage.googleapis.com/tensorflow/keras-applications/resnet/resnet50_weights_tf_dim_ordering_tf_kernels_notop.h5\n",
            "94765736/94765736 [==============================] - 5s 0us/step\n",
            "3/3 [==============================] - 2s 111ms/step\n",
            "3/3 [==============================] - 1s 83ms/step\n",
            "3/3 [==============================] - 1s 83ms/step\n",
            "3/3 [==============================] - 2s 85ms/step\n",
            "3/3 [==============================] - 1s 83ms/step\n",
            "3/3 [==============================] - 2s 112ms/step\n",
            "3/3 [==============================] - 1s 84ms/step\n",
            "3/3 [==============================] - 1s 83ms/step\n",
            "3/3 [==============================] - 1s 83ms/step\n",
            "3/3 [==============================] - 1s 83ms/step\n"
          ]
        }
      ]
    },
    {
      "cell_type": "code",
      "source": [
        "print(f'Mean sensitivity of VGG16 after 10 epochs {np.mean(res_net_sns)}')\n",
        "print(f'Mean specificity of VGG16 after 10 epochs {np.mean(res_net_spc)}')\n",
        "print(f'Mean AUC of VGG16 after 10 epochs {np.mean(res_net_auc)}')"
      ],
      "metadata": {
        "colab": {
          "base_uri": "https://localhost:8080/"
        },
        "id": "3wRKV60cMIaU",
        "outputId": "86ae9732-4720-410b-d9b9-492e95bafb80"
      },
      "execution_count": null,
      "outputs": [
        {
          "output_type": "stream",
          "name": "stdout",
          "text": [
            "Mean sensitivity of VGG16 after 10 epochs 0.6\n",
            "Mean specificity of VGG16 after 10 epochs 0.4\n",
            "Mean AUC of VGG16 after 10 epochs 0.7910528136610169\n"
          ]
        }
      ]
    },
    {
      "cell_type": "markdown",
      "source": [
        "## For VGG 16 and 19 application"
      ],
      "metadata": {
        "id": "0XnEiTtZLnUm"
      }
    },
    {
      "cell_type": "code",
      "source": [
        "vgg16_sns,vgg16_spc,vgg16_auc,vgg16_val_loss,vgg16_val_acc=sir_method(VGG16,224,224)"
      ],
      "metadata": {
        "colab": {
          "base_uri": "https://localhost:8080/"
        },
        "id": "RAref58t63At",
        "outputId": "8016eb4b-6c02-4588-f71a-8cd65c085800"
      },
      "execution_count": null,
      "outputs": [
        {
          "output_type": "stream",
          "name": "stdout",
          "text": [
            "Downloading data from https://storage.googleapis.com/tensorflow/keras-applications/vgg16/vgg16_weights_tf_dim_ordering_tf_kernels_notop.h5\n",
            "58889256/58889256 [==============================] - 3s 0us/step\n",
            "3/3 [==============================] - 0s 108ms/step\n",
            "3/3 [==============================] - 0s 107ms/step\n",
            "3/3 [==============================] - 1s 109ms/step\n",
            "3/3 [==============================] - 0s 110ms/step\n",
            "3/3 [==============================] - 0s 112ms/step\n",
            "3/3 [==============================] - 0s 116ms/step\n",
            "3/3 [==============================] - 0s 114ms/step\n",
            "3/3 [==============================] - 0s 109ms/step\n",
            "3/3 [==============================] - 0s 109ms/step\n",
            "3/3 [==============================] - 0s 110ms/step\n"
          ]
        }
      ]
    },
    {
      "cell_type": "code",
      "source": [
        "print(f'Mean sensitivity of VGG16 after 10 epochs {np.mean(vgg16_sns)}')\n",
        "print(f'Mean specificity of VGG16 after 10 epochs {np.mean(vgg16_spc)}')\n",
        "print(f'Mean AUC of VGG16 after 10 epochs {np.mean(vgg16_auc)}')"
      ],
      "metadata": {
        "colab": {
          "base_uri": "https://localhost:8080/"
        },
        "id": "65tUQ1RY1-6P",
        "outputId": "3797616d-a1f8-404e-d4f5-923d8edb2013"
      },
      "execution_count": null,
      "outputs": [
        {
          "output_type": "stream",
          "name": "stdout",
          "text": [
            "Mean sensitivity of VGG16 after 10 epochs 0.8058037217412218\n",
            "Mean specificity of VGG16 after 10 epochs 0.8392938839648888\n",
            "Mean AUC of VGG16 after 10 epochs 0.9501604606027524\n"
          ]
        }
      ]
    },
    {
      "cell_type": "code",
      "source": [
        "vgg19_sns,vgg19_spc,vgg19_auc,vgg19_val_loss,vgg19_val_acc=sir_method(VGG19,224,224)"
      ],
      "metadata": {
        "colab": {
          "base_uri": "https://localhost:8080/"
        },
        "id": "lwUCWY1a85qr",
        "outputId": "59ed2946-ed1f-4b29-b7c9-9d2b91456c32"
      },
      "execution_count": null,
      "outputs": [
        {
          "output_type": "stream",
          "name": "stdout",
          "text": [
            "Downloading data from https://storage.googleapis.com/tensorflow/keras-applications/vgg19/vgg19_weights_tf_dim_ordering_tf_kernels_notop.h5\n",
            "80134624/80134624 [==============================] - 4s 0us/step\n",
            "3/3 [==============================] - 1s 144ms/step\n",
            "3/3 [==============================] - 0s 129ms/step\n",
            "3/3 [==============================] - 1s 135ms/step\n",
            "3/3 [==============================] - 0s 129ms/step\n",
            "3/3 [==============================] - 1s 131ms/step\n",
            "3/3 [==============================] - 0s 131ms/step\n",
            "3/3 [==============================] - 1s 132ms/step\n",
            "3/3 [==============================] - 0s 130ms/step\n",
            "3/3 [==============================] - 1s 134ms/step\n",
            "3/3 [==============================] - 0s 131ms/step\n"
          ]
        }
      ]
    },
    {
      "cell_type": "code",
      "source": [
        "print(f'Mean sensitivity of VGG19 after 10 epochs {np.mean(vgg19_sns)}')\n",
        "print(f'Mean specificity of VGG19 after 10 epochs {np.mean(vgg19_spc)}')\n",
        "print(f'Mean AUC of VGG19 after 10 epochs {np.mean(vgg19_auc)}')"
      ],
      "metadata": {
        "colab": {
          "base_uri": "https://localhost:8080/"
        },
        "id": "BoqNfVDr85pf",
        "outputId": "3d4cf37e-0560-41a7-8632-382b5c817e3f"
      },
      "execution_count": null,
      "outputs": [
        {
          "output_type": "stream",
          "name": "stdout",
          "text": [
            "Mean sensitivity of VGG19 after 10 epochs 0.8174612760464687\n",
            "Mean specificity of VGG19 after 10 epochs 0.7624731774997732\n",
            "Mean AUC of VGG19 after 10 epochs 0.9470509475835861\n"
          ]
        }
      ]
    },
    {
      "cell_type": "markdown",
      "source": [
        "## Fine Tuning of Mobile Net"
      ],
      "metadata": {
        "id": "bLMhcrBBLwqO"
      }
    },
    {
      "cell_type": "code",
      "source": [
        "#### SIR Newly Mentioned Logic of sampling\n",
        "import numpy as np\n",
        "from sklearn.model_selection import train_test_split\n",
        "from sklearn.metrics import roc_auc_score, roc_curve, confusion_matrix\n",
        "sns=[]\n",
        "spc=[]\n",
        "AUC=[]\n",
        "validation_loss=[]\n",
        "validation_accuracy=[]\n",
        "# Assuming you have your feature data in 'X' and labels in 'y'\n",
        "# Define your model as 'model'\n",
        "# Define the number of epochs as 'num_epochs'\n",
        "def sir_method_fine_tuned_model(base,height,width):\n",
        "# Get the total number of samples\n",
        "  num_samples = len(labels)\n",
        "  num_epochs=10\n",
        "  for epoch in range(num_epochs):\n",
        "      # Shuffle the data and labels\n",
        "      shuffled_indices = np.random.permutation(num_samples)\n",
        "      X_shuffled = data[shuffled_indices]\n",
        "      y_shuffled =labels[shuffled_indices]\n",
        "\n",
        "      # Split the data into training and validation sets\n",
        "      train_size = int(0.8 * num_samples)\n",
        "      X_train, X_val = X_shuffled[:train_size], X_shuffled[train_size:]\n",
        "      y_train, y_val = y_shuffled[:train_size], y_shuffled[train_size:]\n",
        "      base_model = base(weights='imagenet', include_top=False, input_shape=(height, width, 3))\n",
        "\n",
        "        # Set up the model architecture\n",
        "      model = Sequential()\n",
        "      model.add(base_model)\n",
        "      model.add(Flatten())\n",
        "      model.add(Dense(height, activation='relu'))\n",
        "      model.add(Dropout(0.5))\n",
        "      model.add(Dense(1, activation='sigmoid'))\n",
        "      base_model.trainable = False\n",
        "\n",
        "      # Compile the model\n",
        "      model.compile(optimizer=Adam(learning_rate=0.0001), loss='binary_crossentropy', metrics=['accuracy'])\n",
        "      # Train the model on the training set\n",
        "      model.fit(X_train, y_train, epochs=1, batch_size=50, verbose=0)\n",
        "      # Evaluate the model on the validation set\n",
        "      val_loss, val_acc = model.evaluate(X_val, y_val, verbose=0)\n",
        "      validation_loss.append(val_loss)\n",
        "      validation_accuracy.append(val_acc)\n",
        "      # Make predictions on the validation set\n",
        "      y_pred = model.predict(X_val)\n",
        "\n",
        "      # Calculate sensitivity, specificity, and AUC\n",
        "      cm = confusion_matrix(y_val, np.round(y_pred))\n",
        "      tn, fp, fn, tp = cm.ravel()\n",
        "      sensitivity = tp / (tp + fn)\n",
        "      specificity = tn / (tn + fp)\n",
        "      auc = roc_auc_score(y_val, y_pred)\n",
        "      sns.append(sensitivity)\n",
        "      spc.append(specificity)\n",
        "      AUC.append(auc)\n",
        "\n",
        "      # Print the evaluation metrics\n",
        "      # print(f\"Epoch {epoch+1} - Sensitivity: {sensitivity:.4f} - Specificity: {specificity:.4f} - AUC: {auc:.4f}\")\n",
        "  return sns,spc,AUC,validation_loss,validation_accuracy\n"
      ],
      "metadata": {
        "id": "6T-lmkGL9a6X"
      },
      "execution_count": null,
      "outputs": []
    },
    {
      "cell_type": "code",
      "source": [
        "fine_tuned_sns,fine_tuned_spc,fine_tuned_auc,fine_tuned_val_loss,fine_tuned_val_acc=sir_method_fine_tuned_model(MobileNet,224,224)"
      ],
      "metadata": {
        "colab": {
          "base_uri": "https://localhost:8080/"
        },
        "id": "LoM8XXDe9qKv",
        "outputId": "61f9113c-4b4e-4edd-b4c6-d2c589b1860c"
      },
      "execution_count": null,
      "outputs": [
        {
          "output_type": "stream",
          "name": "stdout",
          "text": [
            "3/3 [==============================] - 1s 43ms/step\n",
            "3/3 [==============================] - 1s 38ms/step\n",
            "3/3 [==============================] - 1s 32ms/step\n",
            "3/3 [==============================] - 1s 33ms/step\n",
            "3/3 [==============================] - 1s 32ms/step\n",
            "3/3 [==============================] - 1s 43ms/step\n",
            "3/3 [==============================] - 1s 32ms/step\n",
            "3/3 [==============================] - 1s 29ms/step\n",
            "3/3 [==============================] - 1s 30ms/step\n",
            "3/3 [==============================] - 1s 30ms/step\n"
          ]
        }
      ]
    },
    {
      "cell_type": "code",
      "source": [
        "print(f'Mean sensitivity of fine tuned MobileNet after 10 epochs {np.mean(fine_tuned_sns)}')\n",
        "print(f'Standard deviation sensitivity of fine tuned MobileNet after 10 epochs {np.var(fine_tuned_sns)}')\n",
        "print(f'Mean specificity of fine tuned MobileNet after 10 epochs {np.mean(fine_tuned_spc)}')\n",
        "print(f'Standard deviation specificity of fine tuned MobileNet after 10 epochs {np.var(fine_tuned_spc)}')\n",
        "print(f'Mean AUC of fine tuned MobileNet after 10 epochs {np.mean(fine_tuned_auc)}')\n",
        "print(f'Standard deviation AUC of fine tuned MobileNet after 10 epochs {np.var(fine_tuned_auc)}')"
      ],
      "metadata": {
        "colab": {
          "base_uri": "https://localhost:8080/"
        },
        "id": "tGwZl2AU98dU",
        "outputId": "018d78ab-bc7f-4ebf-821e-89a34b34f0de"
      },
      "execution_count": null,
      "outputs": [
        {
          "output_type": "stream",
          "name": "stdout",
          "text": [
            "Mean sensitivity of fine tuned MobileNet after 10 epochs 0.9793333333333335\n",
            "Standard deviation sensitivity of fine tuned MobileNet after 10 epochs 0.0009551111111111109\n",
            "Mean specificity of fine tuned MobileNet after 10 epochs 0.9242144502188436\n",
            "Standard deviation specificity of fine tuned MobileNet after 10 epochs 0.0029360956814205178\n",
            "Mean AUC of fine tuned MobileNet after 10 epochs 0.9894762904070641\n",
            "Standard deviation AUC of fine tuned MobileNet after 10 epochs 8.580143084234234e-05\n"
          ]
        }
      ]
    }
  ]
}